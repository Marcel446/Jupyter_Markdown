{
 "cells": [
  {
   "attachments": {},
   "cell_type": "markdown",
   "metadata": {},
   "source": [
    "# Exercici 1\n",
    "#### com a exemple per fer la primera entrega he fet els exercicis del curs d'introduccio al python del moodle\n",
    "Suposem que hem fet una compra en un *fruiteria*. Les **fruites i el seu import** ens apareix en el tiquet de la manera següent:\n",
    "\n",
    "* Pomes: 3,56 €\n",
    "* Mandarines: 4,35 €\n",
    "* Síndria: 6,23 €\n",
    "* Maduixes: 4,28 €\n",
    "* Peres: 2,86\n",
    "* Taronges: 3,48 €\n",
    " \n",
    "\n",
    "Guarda la **llista** de la compra en forma de **diccionari** (pots ometre les unitats). Escriu el codi per tal de resoldre les qüestions següents:\n",
    "\n",
    "\n",
    "Podries calcular la mitjana de la compra accedint als valors de les claus? Procura posar només dos decimals.\n",
    "Podries copiar i guardar en una nova variable la llista dels imports sense tenir en compte els dos últims?\n",
    "Podries saber com comprovar si hem comprat llimones?"
   ]
  },
  {
   "cell_type": "code",
   "execution_count": null,
   "metadata": {},
   "outputs": [],
   "source": [
    "compra = {'pomes':3.56 , 'mandarines':4.35 , 'sindria':6.23 , 'maduixes': 4.28 , 'peres': 2.86 , 'taronges': 3.48}\n",
    "llistaClaus = list(compra.values())\n",
    "total = sum(llistaClaus)\n",
    "print(\"{0:.2f}\".format(total/len(compra)))"
   ]
  },
  {
   "cell_type": "code",
   "execution_count": null,
   "metadata": {},
   "outputs": [],
   "source": [
    "Import = list(compra.values())\n",
    "\n",
    "llistaImport = Import[0:4]\n",
    "\n",
    "print(llistaImport)\n",
    "\n",
    "print(\"llimones\" in compra)"
   ]
  },
  {
   "cell_type": "markdown",
   "metadata": {},
   "source": [
    "##### Genera una seqüència iterable formada per una llista de 10 números enters majors que 0 i menors que 20. Procura que tots els números d’aquesta llista els entris per teclat. Una vegada tinguis la llista, realitza les accions següents:\n",
    "\n",
    "- Fes que tots els elements siguin multiplicats per __3, si són menors que 10__, o *per 2, si són majors que 10*.\n",
    "- Imprimeix la llista.\n",
    "- A continuació, imprimeix només els cinc primers números. Fes ús de l’estructura while.\n",
    " \n",
    "\n",
    "Si vols, i de manera opcional, intenta fer aquest últim pas:\n",
    "\n",
    "Torna a fer les accions anteriors, però en lloc d’introduir els números per teclat, fes-ho important el mòdul random i fent ús de la funció randint().\n"
   ]
  },
  {
   "cell_type": "code",
   "execution_count": null,
   "metadata": {},
   "outputs": [],
   "source": [
    "print('Introdueixi 10 números entre el 1 i el 20')\n",
    "list_enters = []\n",
    "for i in range(0,10):\n",
    "    num = int(input())\n",
    "    list_enters.append(num)\n",
    "\n",
    "for j in range(0, len(list_enters)):\n",
    "    if list_enters[j]<10:\n",
    "        list_enters[j] *=3\n",
    "    else:\n",
    "        list_enters[j]*=2\n",
    "        \n",
    "while j<5:\n",
    "    print(list_enters[j])\n",
    "    j=j+1\n",
    "    \n",
    "print(list_enters)"
   ]
  },
  {
   "cell_type": "code",
   "execution_count": null,
   "metadata": {},
   "outputs": [],
   "source": [
    "k = 0\n",
    "while k<5:\n",
    "    print(list_enters[k])\n",
    "    k+=1"
   ]
  },
  {
   "cell_type": "code",
   "execution_count": 17,
   "metadata": {},
   "outputs": [
    {
     "name": "stdout",
     "output_type": "stream",
     "text": [
      "30\n",
      "34\n",
      "36\n",
      "42\n",
      "28\n",
      "[30, 34, 36, 42, 28, 0, 9, 34, 30, 30]\n"
     ]
    }
   ],
   "source": [
    "import random\n",
    "list_enters2 = []\n",
    "\n",
    "for i in range(0,10):\n",
    "    list_enters2.append(random.randint(0,20))\n",
    "    \n",
    "for j in range(0, len(list_enters2)):\n",
    "    if list_enters2[j] < 10:\n",
    "        list_enters2[j]*=3\n",
    "    if list_enters2[j]> 10:\n",
    "        list_enters2[j]*=2\n",
    "\n",
    "k = 0 \n",
    "while k <5:\n",
    "    print(list_enters2[k])\n",
    "    k+=1\n",
    "\n",
    "print(list_enters2)"
   ]
  },
  {
   "cell_type": "markdown",
   "metadata": {},
   "source": [
    "A continuació, et proposem resoldre un exercici vinculat a les funcions.\n",
    "\n",
    "Suposem que tenim una col·lecció de números enters guardats en una llista. Construeix una funció que agafi com a paràmetre aquesta llista i que torni una nova llista els valors de la qual siguin el doble de la llista d’entrada.\n",
    "\n",
    "Per exemple, si el paràmetre de la funció és [4,6,8], el retorn serà [8,12,16].\n",
    "\n",
    "Construeix una nova funció que també agafi una llista com a paràmetre i que, primer, multipliqui per 3 els seus valors, si aquests no són superiors a 10 i, després, que imprimeixi la llista. Invoca aquesta funció de tal manera que el valor del seu paràmetre sigui la llista que torni la primera funció.  \n",
    "\n",
    "Resol l’exercici per aquestes tres llistes diferents que agafen la funcio_1 com a paràmetre:\n",
    "\n",
    "[4,5,7]\n",
    "\n",
    "[1,3,2]\n",
    "\n",
    "[3,6,8]\n",
    "\n",
    "Procura resoldre l’exercici suposant que la llista que agafa com a paràmetre la funcio_1 és una seqüencia de quatre valors enters generats aleatòriament de l’1 al 9."
   ]
  },
  {
   "cell_type": "code",
   "execution_count": 21,
   "metadata": {},
   "outputs": [
    {
     "name": "stdout",
     "output_type": "stream",
     "text": [
      "[8, 12, 16]\n"
     ]
    }
   ],
   "source": [
    "def doble(llista):\n",
    "    nova_llista = []\n",
    "    for i in range(0,len(llista)):\n",
    "        nova_llista.append(llista[i]*2)\n",
    "    return nova_llista    \n",
    "\n",
    "print(doble([4,6,8])) "
   ]
  },
  {
   "cell_type": "code",
   "execution_count": 30,
   "metadata": {},
   "outputs": [
    {
     "name": "stdout",
     "output_type": "stream",
     "text": [
      "[24, 12, 16]\n"
     ]
    }
   ],
   "source": [
    "def triple(llista):    \n",
    "    for i in range(0,len(llista)):\n",
    "        if llista[i] <= 10:\n",
    "            llista[i] = llista[i]*3\n",
    "    print(llista)\n",
    "\n",
    "triple(doble([4,6,8]))"
   ]
  },
  {
   "cell_type": "code",
   "execution_count": 31,
   "metadata": {},
   "outputs": [
    {
     "name": "stdout",
     "output_type": "stream",
     "text": [
      "[24, 30, 14]\n",
      "[6, 18, 12]\n",
      "[18, 12, 16]\n"
     ]
    }
   ],
   "source": [
    "triple(doble([4,5,7]))\n",
    "triple(doble([1,3,2]))\n",
    "triple(doble([3,6,8]))"
   ]
  },
  {
   "cell_type": "code",
   "execution_count": 32,
   "metadata": {},
   "outputs": [
    {
     "name": "stdout",
     "output_type": "stream",
     "text": [
      "[7, 8, 2, 10]\n"
     ]
    }
   ],
   "source": [
    "random_list = []\n",
    "for i in range(0,4):\n",
    "    random_list.append(random.randint(0,10))\n",
    "    \n",
    "print(random_list)"
   ]
  },
  {
   "cell_type": "code",
   "execution_count": 33,
   "metadata": {},
   "outputs": [
    {
     "name": "stdout",
     "output_type": "stream",
     "text": [
      "[14, 16, 12, 20]\n"
     ]
    }
   ],
   "source": [
    "triple(doble(random_list))"
   ]
  },
  {
   "cell_type": "code",
   "execution_count": 34,
   "metadata": {},
   "outputs": [
    {
     "name": "stdout",
     "output_type": "stream",
     "text": [
      "a\n"
     ]
    }
   ],
   "source": [
    "print(\"a\")"
   ]
  },
  {
   "cell_type": "code",
   "execution_count": 35,
   "metadata": {},
   "outputs": [
    {
     "name": "stdout",
     "output_type": "stream",
     "text": [
      "[0, 1, 2, 3]\n"
     ]
    }
   ],
   "source": [
    " x = [6,5,3,8]\n",
    "print(list(range(len(x))))"
   ]
  }
 ],
 "metadata": {
  "kernelspec": {
   "display_name": "Python 3",
   "language": "python",
   "name": "python3"
  },
  "language_info": {
   "codemirror_mode": {
    "name": "ipython",
    "version": 3
   },
   "file_extension": ".py",
   "mimetype": "text/x-python",
   "name": "python",
   "nbconvert_exporter": "python",
   "pygments_lexer": "ipython3",
   "version": "3.8.5"
  }
 },
 "nbformat": 4,
 "nbformat_minor": 4
}
